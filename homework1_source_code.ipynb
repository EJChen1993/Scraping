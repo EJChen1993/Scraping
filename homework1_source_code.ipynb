{
 "cells": [
  {
   "cell_type": "markdown",
   "metadata": {},
   "source": [
    "# import article"
   ]
  },
  {
   "cell_type": "code",
   "execution_count": 1,
   "metadata": {
    "collapsed": false
   },
   "outputs": [
    {
     "name": "stdout",
     "output_type": "stream",
     "text": [
      "1\tNBAWade 出書 談 爸爸 經 　 澄清 和 教練 爭執 記者 邵瑞峰 綜合 報導 熱火 「 閃電俠 」 Dwyane Wade 近日 推出 了 新書 「 A Father First : How My Life Became Bigger Than Basketball 」 ， 還 特地 送 了 一 本 簽名書 給 好兄弟 「 小 皇帝 」 Lebron James ， Wade 在 書 中 除了 大談 爸爸 經 ， 也 透露 了 一些 不 為 人 知 的 熱火 秘辛 ， 包括 他 在 季後賽 準決賽 第三 戰 和 教練 Erik Spoelstra 對罵 的 內幕 。 Wade 在 今年 季後賽 面對 溜 馬的 東區 準決賽 第三 戰時 ， 於 比賽 中和 Spoelstra 發生 激烈 衝突 ， 兩 人 在 板凳 席 破口大罵 對方 的 畫面 甚至 透過 電視 轉播 讓 所有 球迷 都 看到 了 ， 對 此 Wade 在 書 中 解釋 了 當時 的 情況 ， 表示 自己 那時 正 飽受 膝傷 折磨 ， 而 Spoelstra 正好 被 他 的 怒火 給 掃 到 。 「 ( Spoelstra ) 可能 想 試 著 讓 我 生氣 ， 因為 我 生氣 的 時候 通常 表現 都 很 好 ， 」 Wade 表示 ： 「 不過 當時 其實 我 是 挫折 多過 於 憤怒 ， 帶 著 挫折 上場 和 帶 著 怒火 上場 可是 完全 不 一樣 的 事 。 」 雖然 直言 Spoelstra 當時 激勵 他 的 策略 失效 ， 不過 Wade 還是 對於 這 位 總教練 推崇 有加 ， 表示 他 「 讓 我 大開眼界 、 學到 了 身為 一 個 冠軍 應該 有的 心態 和 所作所為 。 」 除了 Spoelstra ， Wade 也 在 書 中 談到 了 本 季 因 「 魔獸 人生 」 被 魔術 炒掉 的 前 熱火 教頭 Stan Van Gundy ， 「 Van Gundy 教練 是 那 種會 一直 叮嚀 你 ， 直到 你 耳 邊 、 潛意識 都 是 他 的 聲音 ， 」 Wade 表示 ： 「 總是 在 歇斯底里 ， 他 的 風格 就是 永遠 保持 在 高度 緊繃 狀態 。 不過 也 是 因為 Stan 才 造就 了 我 的 強悍 程度 和 高度 集中 的 態度 。 」 \n",
      "\n"
     ]
    }
   ],
   "source": [
    "import re, codecs\n",
    "with open(\"/Users/yichiehchen/python file/text mining/PA-1/TMBD_news_files_assignment1.txt\") as f:\n",
    "    raw_article = f.readlines() \n",
    "\n",
    "print(raw_article[0])"
   ]
  },
  {
   "cell_type": "code",
   "execution_count": 2,
   "metadata": {
    "collapsed": false
   },
   "outputs": [
    {
     "name": "stdout",
     "output_type": "stream",
     "text": [
      "['NBAWade', '出書', '談', '爸爸', '經', '澄清', '和', '教練', '爭執', '記者', '邵瑞峰', '綜合', '報導', '熱火', '「', '閃電俠', '」', 'Dwyane', 'Wade', '近日', '推出', '了', '新書', '「', 'A', 'Father', 'First', ':', 'How', 'My', 'Life', 'Became', 'Bigger', 'Than', 'Basketball', '」', '，', '還', '特地', '送', '了', '一', '本', '簽名書', '給', '好兄弟', '「', '小', '皇帝', '」', 'Lebron', 'James', '，', 'Wade', '在', '書', '中', '除了', '大談', '爸爸', '經', '，', '也', '透露', '了', '一些', '不', '為', '人', '知', '的', '熱火', '秘辛', '，', '包括', '他', '在', '季後賽', '準決賽', '第三', '戰', '和', '教練', 'Erik', 'Spoelstra', '對罵', '的', '內幕', '。', 'Wade', '在', '今年', '季後賽', '面對', '溜', '馬的', '東區', '準決賽', '第三', '戰時', '，', '於', '比賽', '中和', 'Spoelstra', '發生', '激烈', '衝突', '，', '兩', '人', '在', '板凳', '席', '破口大罵', '對方', '的', '畫面', '甚至', '透過', '電視', '轉播', '讓', '所有', '球迷', '都', '看到', '了', '，', '對', '此', 'Wade', '在', '書', '中', '解釋', '了', '當時', '的', '情況', '，', '表示', '自己', '那時', '正', '飽受', '膝傷', '折磨', '，', '而', 'Spoelstra', '正好', '被', '他', '的', '怒火', '給', '掃', '到', '。', '「', '(', 'Spoelstra', ')', '可能', '想', '試', '著', '讓', '我', '生氣', '，', '因為', '我', '生氣', '的', '時候', '通常', '表現', '都', '很', '好', '，', '」', 'Wade', '表示', '：', '「', '不過', '當時', '其實', '我', '是', '挫折', '多過', '於', '憤怒', '，', '帶', '著', '挫折', '上場', '和', '帶', '著', '怒火', '上場', '可是', '完全', '不', '一樣', '的', '事', '。', '」', '雖然', '直言', 'Spoelstra', '當時', '激勵', '他', '的', '策略', '失效', '，', '不過', 'Wade', '還是', '對於', '這', '位', '總教練', '推崇', '有加', '，', '表示', '他', '「', '讓', '我', '大開眼界', '、', '學到', '了', '身為', '一', '個', '冠軍', '應該', '有的', '心態', '和', '所作所為', '。', '」', '除了', 'Spoelstra', '，', 'Wade', '也', '在', '書', '中', '談到', '了', '本', '季', '因', '「', '魔獸', '人生', '」', '被', '魔術', '炒掉', '的', '前', '熱火', '教頭', 'Stan', 'Van', 'Gundy', '，', '「', 'Van', 'Gundy', '教練', '是', '那', '種會', '一直', '叮嚀', '你', '，', '直到', '你', '耳', '邊', '、', '潛意識', '都', '是', '他', '的', '聲音', '，', '」', 'Wade', '表示', '：', '「', '總是', '在', '歇斯底里', '，', '他', '的', '風格', '就是', '永遠', '保持', '在', '高度', '緊繃', '狀態', '。', '不過', '也', '是', '因為', 'Stan', '才', '造就', '了', '我', '的', '強悍', '程度', '和', '高度', '集中', '的', '態度', '。', '」']\n"
     ]
    }
   ],
   "source": [
    "article = []\n",
    "for i in raw_article:\n",
    "    i = i[:-1] #remove \\n\n",
    "    i = i.split(\" \")[:-1] #remove space\n",
    "    i[0] = i[0].split(\"\\t\")[1] #remove no. and \\t\n",
    "    article.append(i)\n",
    "    #remove \\u3000\n",
    "    for i in article:\n",
    "        for j in i:\n",
    "            if j == \"\\u3000\":\n",
    "                i.remove(j)\n",
    "            \n",
    "print(article[0])  "
   ]
  },
  {
   "cell_type": "markdown",
   "metadata": {},
   "source": [
    "# import punctuation"
   ]
  },
  {
   "cell_type": "code",
   "execution_count": 3,
   "metadata": {
    "collapsed": false
   },
   "outputs": [
    {
     "name": "stdout",
     "output_type": "stream",
     "text": [
      "['[', '.', '!', '/', '-', '>', '<', '$', '%', '^', '*', '(', '\"', '?', ']', '|', '[', '—', '！', '，', '。', '？', '、', '（', '）', '：', '」', '「', ')', '(', '【', '】', '╱', '；', ']', '=', '「', '」', '‧', '（', '）', '.', '~']\n"
     ]
    }
   ],
   "source": [
    "with open(\"/Users/yichiehchen/python file/text mining/PA-1/punctuation.txt\") as p:\n",
    "    raw_pun = p.readlines()\n",
    "#print(raw_pun)\n",
    "\n",
    "#remove \\n\n",
    "pun = []\n",
    "for i in raw_pun:\n",
    "    i = i[0]\n",
    "    pun.append(i)\n",
    "\n",
    "print(pun)"
   ]
  },
  {
   "cell_type": "markdown",
   "metadata": {},
   "source": [
    "# import stopword"
   ]
  },
  {
   "cell_type": "code",
   "execution_count": 4,
   "metadata": {
    "collapsed": false
   },
   "outputs": [
    {
     "name": "stdout",
     "output_type": "stream",
     "text": [
      "['的', '是', '一', '在', '有', '個', '我', '不', '這', '了', '他', '也', '就', '人', '都', '說', '而', '我們', '你', '要', '之', '會', '對', '及', '和', '與', '以', '很', '種', '中', '大', '能', '著', '她', '那', '上', '但', '年', '還', '可以', '時', '最', '自己', '為', '來', '所', '他們', '兩', '各', '可', '或', '好', '等', '又', '將', '後', '因為', '於', '由', '從', '更', '被', '才', '已', '者', '每', '次', '把', '三', '什麼', '其', '讓', '此', '做', '再', '所以', '只', '沒有', '則', '卻', '地', '並', '位', '得', '想', '去', '呢', '表示', '到', '如果', '为', '于', '后', '来', '因', '下', '这', '与', '并', '个', '无', '小', '们', '起', '今', '亦', '某', '乃', '它', '吧', '比', '别', '趁', '当', '从', '打', '凡', '儿', '尔', '该', '给', '跟', '何', '还', '即', '几', '既', '看', '据', '距', '靠', '啦', '另', '么', '嘛', '拿', '哪', '您', '凭', '且', '却', '让', '仍', '啥', '如', '若', '使', '谁', '虽', '随', '同', '哇', '嗡', '往', '些', '向', '沿', '哟', '用', '咱', '则', '怎', '曾', '至', '致', '着', '诸', '自']\n"
     ]
    }
   ],
   "source": [
    "with open(\"/Users/yichiehchen/python file/text mining/PA-1/stopword_chinese.txt\") as s:\n",
    "    raw_stopword = s.readlines()\n",
    "#print(raw_stopword)\n",
    "\n",
    "#remove \\n\n",
    "stopword = []\n",
    "for i in raw_stopword:\n",
    "    i = i[:-1]\n",
    "    stopword.append(i)\n",
    "    \n",
    "print(stopword)"
   ]
  },
  {
   "cell_type": "markdown",
   "metadata": {
    "collapsed": false
   },
   "source": [
    "# remove stopword & punctuation"
   ]
  },
  {
   "cell_type": "code",
   "execution_count": 5,
   "metadata": {
    "collapsed": false
   },
   "outputs": [
    {
     "name": "stdout",
     "output_type": "stream",
     "text": [
      "['NBAWade', '出書', '談', '爸爸', '經', '澄清', '教練', '爭執', '記者', '邵瑞峰', '綜合', '報導', '熱火', '閃電俠', 'Dwyane', 'Wade', '近日', '推出', '新書', 'A', 'Father', 'First', ':', 'How', 'My', 'Life', 'Became', 'Bigger', 'Than', 'Basketball', '特地', '送', '本', '簽名書', '給', '好兄弟', '皇帝', 'Lebron', 'James', 'Wade', '書', '除了', '大談', '爸爸', '經', '透露', '一些', '知', '熱火', '秘辛', '包括', '季後賽', '準決賽', '第三', '戰', '教練', 'Erik', 'Spoelstra', '對罵', '內幕', 'Wade', '今年', '季後賽', '面對', '溜', '馬的', '東區', '準決賽', '第三', '戰時', '比賽', '中和', 'Spoelstra', '發生', '激烈', '衝突', '板凳', '席', '破口大罵', '對方', '畫面', '甚至', '透過', '電視', '轉播', '所有', '球迷', '看到', 'Wade', '書', '解釋', '當時', '情況', '那時', '正', '飽受', '膝傷', '折磨', 'Spoelstra', '正好', '怒火', '給', '掃', 'Spoelstra', '可能', '試', '生氣', '生氣', '時候', '通常', '表現', 'Wade', '不過', '當時', '其實', '挫折', '多過', '憤怒', '帶', '挫折', '上場', '帶', '怒火', '上場', '可是', '完全', '一樣', '事', '雖然', '直言', 'Spoelstra', '當時', '激勵', '策略', '失效', '不過', 'Wade', '還是', '對於', '總教練', '推崇', '有加', '大開眼界', '學到', '身為', '冠軍', '應該', '有的', '心態', '所作所為', '除了', 'Spoelstra', 'Wade', '書', '談到', '本', '季', '魔獸', '人生', '魔術', '炒掉', '前', '熱火', '教頭', 'Stan', 'Van', 'Gundy', 'Van', 'Gundy', '教練', '種會', '一直', '叮嚀', '直到', '耳', '邊', '潛意識', '聲音', 'Wade', '總是', '歇斯底里', '風格', '就是', '永遠', '保持', '高度', '緊繃', '狀態', '不過', 'Stan', '造就', '強悍', '程度', '高度', '集中', '態度']\n"
     ]
    }
   ],
   "source": [
    "final_article = []\n",
    "for i in article:\n",
    "    article_1 = list(filter(lambda x: x not in pun, i))\n",
    "    article_2 = list(filter(lambda y: y not in stopword, article_1))\n",
    "    final_article.append(article_2)\n",
    "    \n",
    "print(final_article[0])  "
   ]
  },
  {
   "cell_type": "markdown",
   "metadata": {
    "collapsed": false
   },
   "source": [
    "# count frequency"
   ]
  },
  {
   "cell_type": "code",
   "execution_count": 6,
   "metadata": {
    "collapsed": false
   },
   "outputs": [],
   "source": [
    "count = {}\n",
    "\n",
    "for i in final_article:\n",
    "    for j in i:\n",
    "        if j not in list(count.keys()):\n",
    "            count[j] = 1\n",
    "        else:\n",
    "            count[j] += 1\n",
    "            \n",
    "#print(count)            "
   ]
  },
  {
   "cell_type": "code",
   "execution_count": 7,
   "metadata": {
    "collapsed": false,
    "scrolled": true
   },
   "outputs": [
    {
     "name": "stdout",
     "output_type": "stream",
     "text": [
      "[('報導', 1033), ('台灣', 827), ('分', 789), ('記者', 707), ('民進黨', 664), ('2', 637), ('立委', 627), ('場', 580), ('政府', 571), ('1', 561), ('總統', 537)]\n"
     ]
    }
   ],
   "source": [
    "#sort count\n",
    "import operator\n",
    "sorted_count = sorted(count.items(), key=operator.itemgetter(1), reverse=True)\n",
    "\n",
    "print(sorted_count[:11])"
   ]
  },
  {
   "cell_type": "code",
   "execution_count": 8,
   "metadata": {
    "collapsed": false
   },
   "outputs": [
    {
     "data": {
      "text/plain": [
       "tuple"
      ]
     },
     "execution_count": 8,
     "metadata": {},
     "output_type": "execute_result"
    }
   ],
   "source": [
    "type(sorted_count[1])\n",
    "#len(sorted_count) 24379筆"
   ]
  },
  {
   "cell_type": "markdown",
   "metadata": {},
   "source": [
    "# export sorted_count into text"
   ]
  },
  {
   "cell_type": "code",
   "execution_count": 54,
   "metadata": {
    "collapsed": false,
    "scrolled": false
   },
   "outputs": [
    {
     "name": "stdout",
     "output_type": "stream",
     "text": [
      "['Term Frequency\\n', '報導 1033\\n', '台灣 827\\n', '分 789\\n', '記者 707\\n', '民進黨 664\\n', '2 637\\n', '立委 627\\n', '場 580\\n', '政府 571\\n']\n"
     ]
    }
   ],
   "source": [
    "#transfer sorted_count into list\n",
    "final_list = [\"Term Frequency\\n\"]\n",
    "\n",
    "for i in sorted_count:\n",
    "    i = str(i[0]) + \" \" + str(i[1]) + \"\\n\"\n",
    "    final_list.append(i)\n",
    "    \n",
    "print(final_list[:10])"
   ]
  },
  {
   "cell_type": "code",
   "execution_count": 56,
   "metadata": {
    "collapsed": true
   },
   "outputs": [],
   "source": [
    "#export into txt \n",
    "file = open(\"result.txt\", \"w\", encoding = \"UTF-8\")\n",
    "\n",
    "for i in final_list:\n",
    "    file.write(str(i))   \n",
    "file.close()      "
   ]
  },
  {
   "cell_type": "markdown",
   "metadata": {},
   "source": [
    "# plot"
   ]
  },
  {
   "cell_type": "code",
   "execution_count": 57,
   "metadata": {
    "collapsed": false
   },
   "outputs": [
    {
     "name": "stdout",
     "output_type": "stream",
     "text": [
      "['報導', '台灣', '分', '記者', '民進黨']\n",
      "[1033, 827, 789, 707, 664]\n"
     ]
    }
   ],
   "source": [
    "#seperate sorted_count into x, y\n",
    "x = []\n",
    "y = []\n",
    "\n",
    "for i in sorted_count:\n",
    "    x.append(i[0])\n",
    "    y.append(i[1])\n",
    "\n",
    "print(x[:5])\n",
    "print(y[:5])"
   ]
  },
  {
   "cell_type": "code",
   "execution_count": 60,
   "metadata": {
    "collapsed": false,
    "scrolled": true
   },
   "outputs": [
    {
     "data": {
      "image/png": "[encoded data removed]",
      "text/plain": [
       "<matplotlib.figure.Figure at 0x108984a20>"
      ]
     },
     "metadata": {},
     "output_type": "display_data"
    }
   ],
   "source": [
    "import numpy as np\n",
    "import matplotlib.pyplot as py\n",
    "\n",
    "index = np.arange(len(x))\n",
    "\n",
    "py.bar(index, y)\n",
    "py.title(\"Term Frequency\")\n",
    "py.xlabel(\"Term\")\n",
    "py.ylabel(\"Frequency\")\n",
    "py.show()"
   ]
  },
  {
   "cell_type": "code",
   "execution_count": null,
   "metadata": {
    "collapsed": false
   },
   "outputs": [],
   "source": []
  }
 ],
 "metadata": {
  "kernelspec": {
   "display_name": "Python 3",
   "language": "python",
   "name": "python3"
  },
  "language_info": {
   "codemirror_mode": {
    "name": "ipython",
    "version": 3
   },
   "file_extension": ".py",
   "mimetype": "text/x-python",
   "name": "python",
   "nbconvert_exporter": "python",
   "pygments_lexer": "ipython3",
   "version": "3.5.2"
  }
 },
 "nbformat": 4,
 "nbformat_minor": 1
}
